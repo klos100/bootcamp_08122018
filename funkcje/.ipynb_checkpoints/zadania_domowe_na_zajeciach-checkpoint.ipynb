{
 "cells": [
  {
   "cell_type": "markdown",
   "metadata": {},
   "source": [
    "## Zad 1\n",
    "Napisz funkcję (lub funkcje), które zwrócą maksymalną spośród 3 liczb. W rozwiązaniu skorzystaj tylko z możliwośći\n",
    "definiowania funkcji i używania w nich operatorów porównania\n"
   ]
  },
  {
   "cell_type": "code",
   "execution_count": 10,
   "metadata": {},
   "outputs": [],
   "source": [
    "def max_z_dwoch(a,b):\n",
    "    if a>b:\n",
    "        return a\n",
    "    return b\n",
    "\n",
    "def max_z_trzech(x,y,z):\n",
    "    return max_z_dwoch(x,max_z_dwoch(y,z))"
   ]
  },
  {
   "cell_type": "code",
   "execution_count": 11,
   "metadata": {},
   "outputs": [],
   "source": [
    "assert 0 == max_z_trzech(0,0,0)\n",
    "assert 3 ==max_z_trzech(1,2,3)\n",
    "assert 10 == max_z_trzech(10,2,-3)"
   ]
  },
  {
   "cell_type": "markdown",
   "metadata": {},
   "source": [
    "## Zad 2\n",
    "Napisz funkcję, która: \n",
    "1. Jeśli jej argument będzie listą, tuplą bądź zbiorem, zwróci sumę jej elementów\n",
    "2. Jeśli jej argument będzie słownikiem, zwróci sumę wartości\n",
    "W obu przypadkach ignoruj napisy - o ile napisy nie reprezentują liczb"
   ]
  },
  {
   "cell_type": "code",
   "execution_count": 25,
   "metadata": {},
   "outputs": [],
   "source": [
    "def sumator(dane):\n",
    "    if isinstance(dane, dict):\n",
    "        dane = dane.values()\n",
    "    dane_wynik = []\n",
    "    for i in dane:\n",
    "        if isinstance(i,(str)):\n",
    "            if i.isdigit():\n",
    "                dane_wynik.append(i)\n",
    "        elif isinstance(i,(int,float)):\n",
    "            dane_wynik.append(i)\n",
    "    return sum([float(i) for i in dane_wynik])\n",
    "\n",
    "#drugie rozwiazanie\n",
    "\n",
    "def sumator2(args):\n",
    "    if isinstance(args, dict):\n",
    "        args = args.values()\n",
    "    total = 0\n",
    "    for x in args:\n",
    "        try:\n",
    "            x = int(x)\n",
    "            total += x\n",
    "        except ValueError:\n",
    "            pass\n",
    "    return total\n",
    "    "
   ]
  },
  {
   "cell_type": "code",
   "execution_count": 26,
   "metadata": {},
   "outputs": [],
   "source": [
    "assert sumator2([1,2,3]) == 6\n",
    "assert sumator2({10,20,30}) == 60\n",
    "assert sumator2 ([1,2,'a',3]) == 6\n",
    "assert sumator2 ([1,2,'4',3]) == 10\n",
    "assert sumator2 ({'a':1,'b':2,'c':'4','d':3}) == 10"
   ]
  },
  {
   "cell_type": "markdown",
   "metadata": {},
   "source": [
    "## Zad 3\n",
    "Napisz funkcję, która sprawdzi czy podany napis jest palindromem"
   ]
  },
  {
   "cell_type": "markdown",
   "metadata": {},
   "source": [
    "def czy_palindrom(tekst):\n",
    "    tekst = tekst.lower()\n",
    "    tekst = tekst.split()\n",
    "    tekst = \"\".join(tekst)\n",
    "    if tekst == tekst[::-1]:\n",
    "        return True\n",
    "    return False\n",
    "\n",
    "#drugie rozwiazanie\n",
    "\n",
    "def czy_palindrom2(tekst):\n",
    "    tekst = tekst.lower().split()\n",
    "    tekst = \"\".join(tekst)\n",
    "    lewy = 0\n",
    "    prawy = len(tekst)-1\n",
    "    while prawy >= lewy:\n",
    "        if not tekst[lewy] == tekst[prawy]:\n",
    "            return False\n",
    "        lewy += 1\n",
    "        prawy -= 1\n",
    "    return True\n",
    "        "
   ]
  },
  {
   "cell_type": "code",
   "execution_count": 37,
   "metadata": {},
   "outputs": [],
   "source": [
    "assert czy_palindrom2(\"Kobyla ma maly bok\") == True\n",
    "assert czy_palindrom2(\"Zakopane na pokaz\") == True\n",
    "assert czy_palindrom2(\"Ala ma kota\") == False"
   ]
  },
  {
   "cell_type": "markdown",
   "metadata": {},
   "source": [
    "## zad 4\n",
    "Napisz funkcję, które wypisze n pierwszych wierszy trójkąta Pascala"
   ]
  },
  {
   "cell_type": "code",
   "execution_count": 38,
   "metadata": {},
   "outputs": [
    {
     "name": "stdout",
     "output_type": "stream",
     "text": [
      "[[1], [1, 1], [1, 2, 1], [1, 3, 3, 1], [1, 4, 6, 4, 1]]\n"
     ]
    }
   ],
   "source": [
    "x = 5\n",
    "if x == 1:\n",
    "    trojkat = [[1]]\n",
    "elif x >1:\n",
    "    n = x - 1\n",
    "    trojkat = [[1]]\n",
    "    linia = [1]\n",
    "    for i in range(n):\n",
    "        rzad = []\n",
    "        for i in range(len(linia)-1):\n",
    "            rzad.append(linia[i]+linia[i+1])\n",
    "        rzad.insert(0,1)\n",
    "        rzad.append(1)\n",
    "        linia = rzad\n",
    "        trojkat.append(rzad)\n",
    "\n",
    "print(trojkat)"
   ]
  },
  {
   "cell_type": "code",
   "execution_count": 44,
   "metadata": {},
   "outputs": [
    {
     "name": "stdout",
     "output_type": "stream",
     "text": [
      "[1, 11, 121, 1331, 14641, 161051]\n"
     ]
    }
   ],
   "source": [
    "def trojkat_P(x):\n",
    "    return([11**i for i in range(x)])\n",
    "\n",
    "\n",
    "\n",
    "print(trojkat_P(6))\n",
    "# dziala do 7 elementu"
   ]
  },
  {
   "cell_type": "code",
   "execution_count": 74,
   "metadata": {},
   "outputs": [
    {
     "name": "stdout",
     "output_type": "stream",
     "text": [
      "[[1], [1, 1], [1, 2, 1], [1, 3, 3, 1], [1, 4, 6, 4, 1], [1, 5, 10, 10, 5, 1], [1, 6, 15, 20, 15, 6, 1], [1, 7, 21, 35, 35, 21, 7, 1], [1, 8, 28, 56, 70, 56, 28, 8, 1], [1, 9, 36, 84, 126, 126, 84, 36, 9, 1]]\n",
      "               1 \n",
      "             1      1 \n",
      "           1      2      1 \n",
      "         1      3      3      1 \n",
      "       1      4      6      4      1 \n",
      "     1      5     10     10      5      1 \n",
      "     1      6     15     20     15      6      1 \n",
      "     1      7     21     35     35     21      7      1 \n",
      "     1      8     28     56     70     56     28      8      1 \n",
      "     1      9     36     84    126    126     84     36      9      1 \n"
     ]
    }
   ],
   "source": [
    "def trojkat_Pascala(x):\n",
    "    a = [[1]]\n",
    "    i = 1\n",
    "    \n",
    "    for i in range(1,x):\n",
    "        a.append([1])\n",
    "        for j in range(1,i):\n",
    "            a[i].append(a[i-1][j-1]+a[i-1][j])\n",
    "        a[i].append(1)\n",
    "    return a\n",
    "\n",
    "lista = trojkat_Pascala(10)\n",
    "print(lista)\n",
    "\n",
    "for i, row in enumerate(lista):\n",
    "    print(\"  \"*(x-i),end = \"\")\n",
    "    for col in row:\n",
    "        print(f'{col:6}', end = \" \")\n",
    "    print()    \n",
    "    \n"
   ]
  },
  {
   "cell_type": "code",
   "execution_count": 75,
   "metadata": {},
   "outputs": [],
   "source": [
    "assert [[1]] == trojkat_Pascala(1)\n",
    "assert [[1], [1,1]] == trojkat_Pascala(2)\n",
    "assert [[1],[1,1],[1,2,1]] == trojkat_Pascala(3)"
   ]
  },
  {
   "cell_type": "markdown",
   "metadata": {},
   "source": [
    "## Zad 5\n",
    "Napisz funkcję, która sprawdzi, czy napis jest pangramem"
   ]
  },
  {
   "cell_type": "code",
   "execution_count": 77,
   "metadata": {},
   "outputs": [],
   "source": [
    "import string\n",
    "\n",
    "def czy_pangram(tekst):\n",
    "    alfabet = string.ascii_lowercase\n",
    "    alfaset = set(alfabet)\n",
    "    if set(tekst.lower()).issuperset(alfaset):\n",
    "        return \"To pangram\"\n",
    "    return \"To nie pangram\"\n"
   ]
  },
  {
   "cell_type": "code",
   "execution_count": 78,
   "metadata": {},
   "outputs": [],
   "source": [
    "assert czy_pangram('The quick brown fox jumps over the lazy dog') == \"To pangram\"\n",
    "assert czy_pangram('Ala ma kota') == \"To nie pangram\"\n",
    "\n"
   ]
  },
  {
   "cell_type": "code",
   "execution_count": 79,
   "metadata": {},
   "outputs": [
    {
     "data": {
      "text/plain": [
       "'abcdefghijklmnopqrstuvwxyz'"
      ]
     },
     "execution_count": 79,
     "metadata": {},
     "output_type": "execute_result"
    }
   ],
   "source": [
    "import string\n",
    "string.ascii_lowercase\n"
   ]
  },
  {
   "cell_type": "code",
   "execution_count": 88,
   "metadata": {},
   "outputs": [],
   "source": [
    "def czy_pangram(napis, alfabet = string.ascii_lowercase):\n",
    "    napis = \"\".join(napis.lower().split())\n",
    "    return set(napis) == set(alfabet)\n"
   ]
  },
  {
   "cell_type": "code",
   "execution_count": 91,
   "metadata": {},
   "outputs": [],
   "source": [
    "alfabet = 'abcdefghijklmnoprstuwyząężśńłóćź'\n",
    "assert czy_pangram(\"Pójdź w loch zbić małżeńską gęś futryn\",alfabet=alfabet) == True"
   ]
  },
  {
   "cell_type": "markdown",
   "metadata": {},
   "source": [
    "\n",
    "## Zad 6\n",
    "Napisz funkcję, które sprawdzi, czy zadana liczba jest doskonała"
   ]
  },
  {
   "cell_type": "code",
   "execution_count": 98,
   "metadata": {},
   "outputs": [
    {
     "name": "stdout",
     "output_type": "stream",
     "text": [
      "496 jest liczbą doskonałą\n",
      "330 nie jest liczbą doskonałą\n"
     ]
    },
    {
     "data": {
      "text/plain": [
       "'i sprawdzenie czy dzieli sie przez 2 jelsi nie jest to odpadaja liczby parzyste'"
      ]
     },
     "execution_count": 98,
     "metadata": {},
     "output_type": "execute_result"
    }
   ],
   "source": [
    "def liczba_doskonala(liczba):\n",
    "    dzielniki = []\n",
    "    for i in range(1, liczba):\n",
    "        if liczba % i == 0:\n",
    "            dzielniki.append(i)\n",
    "    if sum(dzielniki) == liczba:\n",
    "        return f\"{liczba} jest liczbą doskonałą\"\n",
    "    return f\"{liczba} nie jest liczbą doskonałą\"\n",
    "\n",
    "\n",
    "print(liczba_doskonala(496))\n",
    "print(liczba_doskonala(330))\n",
    "\n",
    "\"pomysly na optymalizacja:\"\n",
    "\"sprawdzenie dzielenian tylko do polowy liczby\"\n",
    "\"i sprawdzenie czy dzieli sie przez 2 jelsi nie jest to odpadaja liczby parzyste\""
   ]
  },
  {
   "cell_type": "code",
   "execution_count": null,
   "metadata": {},
   "outputs": [],
   "source": [
    "assert liczba_doskonala(6) == \"6 jest liczbą doskonałą\"\n",
    "assert liczba_doskonala(28) == \"28 jest liczbą doskonałą\"\n",
    "assert liczba_doskonala(7) == \"7 nie jest liczbą doskonałą\""
   ]
  },
  {
   "cell_type": "markdown",
   "metadata": {},
   "source": [
    "## Zad 7\n",
    "Napisz dekorator, który będzie printował w konsoli czas wykonania dekorowanej funkcji."
   ]
  },
  {
   "cell_type": "code",
   "execution_count": 96,
   "metadata": {},
   "outputs": [],
   "source": [
    "import time\n",
    "\n",
    "def kontrola_czas(funkcja):\n",
    "    def wrapper(*args, **kwargs):\n",
    "        start = time.time()\n",
    "        funkcja(*args, **kwargs)\n",
    "        stop = time.time()\n",
    "        czas = stop - start\n",
    "        return (f\"Czas trwania funkcji{funkcja.__name__}: {czas} s\")\n",
    "    return wrapper\n",
    "\n"
   ]
  },
  {
   "cell_type": "code",
   "execution_count": 99,
   "metadata": {},
   "outputs": [],
   "source": [
    "liczba_doskonala = kontrola_czas(liczba_doskonala)\n"
   ]
  },
  {
   "cell_type": "code",
   "execution_count": 100,
   "metadata": {},
   "outputs": [
    {
     "data": {
      "text/plain": [
       "'Czas trwania funkcjiliczba_doskonala: 0.015625 s'"
      ]
     },
     "execution_count": 100,
     "metadata": {},
     "output_type": "execute_result"
    }
   ],
   "source": [
    "liczba_doskonala(10000)"
   ]
  },
  {
   "cell_type": "code",
   "execution_count": null,
   "metadata": {},
   "outputs": [],
   "source": []
  }
 ],
 "metadata": {
  "kernelspec": {
   "display_name": "Python 3",
   "language": "python",
   "name": "python3"
  },
  "language_info": {
   "codemirror_mode": {
    "name": "ipython",
    "version": 3
   },
   "file_extension": ".py",
   "mimetype": "text/x-python",
   "name": "python",
   "nbconvert_exporter": "python",
   "pygments_lexer": "ipython3",
   "version": "3.7.0"
  }
 },
 "nbformat": 4,
 "nbformat_minor": 2
}
